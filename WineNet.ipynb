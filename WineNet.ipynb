{
  "nbformat": 4,
  "nbformat_minor": 0,
  "metadata": {
    "colab": {
      "name": "WineNet.ipynb",
      "provenance": [],
      "collapsed_sections": [],
      "authorship_tag": "ABX9TyOOkTsew6Td/rYoO1NaL/ck",
      "include_colab_link": true
    },
    "kernelspec": {
      "name": "python3",
      "display_name": "Python 3"
    },
    "language_info": {
      "name": "python"
    }
  },
  "cells": [
    {
      "cell_type": "markdown",
      "metadata": {
        "id": "view-in-github",
        "colab_type": "text"
      },
      "source": [
        "<a href=\"https://colab.research.google.com/github/RunatK/WineNet/blob/main/WineNet.ipynb\" target=\"_parent\"><img src=\"https://colab.research.google.com/assets/colab-badge.svg\" alt=\"Open In Colab\"/></a>"
      ]
    },
    {
      "cell_type": "code",
      "execution_count": null,
      "metadata": {
        "id": "3K6ind7i537b"
      },
      "outputs": [],
      "source": [
        "import matplotlib\n",
        "matplotlib.rcParams['figure.figsize'] = (13.0, 5.0)\n",
        "import torch\n",
        "import random\n",
        "import numpy as np\n",
        "import sklearn.datasets\n",
        "from sklearn.model_selection import train_test_split"
      ]
    },
    {
      "cell_type": "code",
      "source": [
        "random.seed(0)\n",
        "np.random.seed(0)\n",
        "torch.manual_seed(0)\n",
        "torch.cuda.manual_seed(0)\n",
        "torch.backends.cudnn.deterministics = True"
      ],
      "metadata": {
        "id": "aVdpbJnm6QcL"
      },
      "execution_count": null,
      "outputs": []
    },
    {
      "cell_type": "code",
      "source": [
        "wine = sklearn.datasets.load_wine()\n",
        "wine.data.shape\n",
        "X_train, X_test, Y_train, Y_test = train_test_split(\n",
        "    wine.data,\n",
        "    wine.target,\n",
        "    test_size=0.3, \n",
        "    shuffle=True\n",
        ")"
      ],
      "metadata": {
        "id": "fXbLY3sl6Uv2"
      },
      "execution_count": null,
      "outputs": []
    },
    {
      "cell_type": "code",
      "source": [
        "X_train = torch.FloatTensor(X_train)\n",
        "X_test = torch.FloatTensor(X_test)\n",
        "Y_train = torch.LongTensor(Y_train)\n",
        "Y_test = torch.LongTensor(Y_test)"
      ],
      "metadata": {
        "id": "2m68qMal6iZE"
      },
      "execution_count": null,
      "outputs": []
    },
    {
      "cell_type": "code",
      "source": [
        "class WineNet(torch.nn.Module):\n",
        "    def __init__(self, count_of_hidden_neurons):\n",
        "        super(WineNet, self).__init__()\n",
        "        self.fc1 = torch.nn.Linear(13, count_of_hidden_neurons)\n",
        "        self.activ1 = torch.nn.Sigmoid()\n",
        "        self.fc2 = torch.nn.Linear(count_of_hidden_neurons, count_of_hidden_neurons)\n",
        "        self.activ2 = torch.nn.Sigmoid()\n",
        "        self.fc3 = torch.nn.Linear(count_of_hidden_neurons, 3)\n",
        "        self.sm = torch.nn.Softmax(dim=1)\n",
        "    def forward(self, x):\n",
        "        x = self.fc1(x)\n",
        "        x = self.activ1(x)\n",
        "        x = self.fc2(x)\n",
        "        x = self.activ2(x)\n",
        "        x = self.fc3(x)\n",
        "        return x\n",
        "    def inference(self, x):\n",
        "        x = self.forward(x)\n",
        "        x = self.sm(x)\n",
        "        return x"
      ],
      "metadata": {
        "id": "ju_uFRyq7RQu"
      },
      "execution_count": null,
      "outputs": []
    },
    {
      "cell_type": "code",
      "source": [
        "wine_net = WineNet(17)\n",
        "loss = torch.nn.CrossEntropyLoss()\n",
        "optim = torch.optim.Adam(wine_net.parameters(), lr=0.001)\n",
        "batch_size = 5 "
      ],
      "metadata": {
        "id": "3_Lfh6d87R3T"
      },
      "execution_count": null,
      "outputs": []
    },
    {
      "cell_type": "code",
      "source": [
        "for epoch in range(10000):\n",
        "    order = np.random.permutation(len(X_train))\n",
        "    for start_index in range(0, len(X_train), batch_size):\n",
        "        optim.zero_grad()\n",
        "\n",
        "        batch_indexes = order[start_index:start_index * batch_size]\n",
        "\n",
        "        x_batch = X_train[batch_indexes]\n",
        "        y_batch = Y_train[batch_indexes]\n",
        "\n",
        "        preds = wine_net.forward(x_batch)\n",
        "\n",
        "        loss_val = loss(preds, y_batch)\n",
        "        loss_val.backward()\n",
        "\n",
        "        optim.step()\n",
        "    if(epoch%100 == 0):\n",
        "        test_preds = wine_net.forward(X_test)\n",
        "        test_preds = test_preds.argmax(dim=1)\n",
        "        if ((test_preds == Y_test).float().mean() > 0.95):\n",
        "            print((test_preds == Y_test).float().mean())\n",
        "            break"
      ],
      "metadata": {
        "colab": {
          "base_uri": "https://localhost:8080/"
        },
        "id": "pRnKs6AL7UkZ",
        "outputId": "34f6698b-ac7c-49d7-84a9-ba4e4a04d7f1"
      },
      "execution_count": null,
      "outputs": [
        {
          "output_type": "stream",
          "name": "stdout",
          "text": [
            "tensor(0.9630)\n"
          ]
        }
      ]
    }
  ]
}